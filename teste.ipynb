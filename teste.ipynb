{
 "cells": [
  {
   "cell_type": "code",
   "execution_count": 1,
   "metadata": {},
   "outputs": [],
   "source": [
    "import numpy as np\n",
    "import uaibot as ub\n",
    "\n",
    "robot = ub.Robot.create_kuka_kr5()\n",
    "sim = ub.Simulation([robot])\n",
    "\n",
    "#Vamos fazer a primeira junta variar de 0 até 2*pi, enquanto as outras continuam em\n",
    "# zero. O tempo irá variar de 0,01 em 0,01 segundos, até 10 segundos.\n",
    "dt=0.01\n",
    "tmax=10\n",
    "for i in range(round(tmax/dt)):\n",
    "    t = i*dt\n",
    "    robot.add_ani_frame(time = t, q = [ (2*np.pi)*t/tmax, 0, 0, 0, 0, 0])\n",
    "\n",
    "#Vamos ver o resultado\n",
    "sim.run()\n",
    "exit()"
   ]
  }
 ],
 "metadata": {
  "interpreter": {
   "hash": "62cbc71ef2a97beb559963c100a7378a2e218df7a51bc32f8c7259f7b6aedd29"
  },
  "kernelspec": {
   "display_name": "Python 3.8.10 ('.venv': venv)",
   "language": "python",
   "name": "python3"
  },
  "language_info": {
   "codemirror_mode": {
    "name": "ipython",
    "version": 3
   },
   "file_extension": ".py",
   "mimetype": "text/x-python",
   "name": "python",
   "nbconvert_exporter": "python",
   "pygments_lexer": "ipython3",
   "version": "3.8.10"
  },
  "orig_nbformat": 4
 },
 "nbformat": 4,
 "nbformat_minor": 2
}
